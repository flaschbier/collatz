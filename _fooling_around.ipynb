{
 "cells": [
  {
   "cell_type": "markdown",
   "metadata": {},
   "source": [
    "# The Collatz Conjecture"
   ]
  },
  {
   "cell_type": "code",
   "execution_count": null,
   "metadata": {},
   "outputs": [
    {
     "name": "stdout",
     "output_type": "stream",
     "text": [
      "3.7.2 (default, Dec 29 2018, 00:00:04) \n",
      "[Clang 4.0.1 (tags/RELEASE_401/final)]\n"
     ]
    }
   ],
   "source": [
    "import sys\n",
    "print(sys.version)"
   ]
  },
  {
   "cell_type": "markdown",
   "metadata": {},
   "source": [
    "## Naive Check Up To 1,000,000"
   ]
  },
  {
   "cell_type": "markdown",
   "metadata": {},
   "source": [
    "First, let's create a simple dataclass to hold the results of a collatz run."
   ]
  },
  {
   "cell_type": "code",
   "execution_count": null,
   "metadata": {},
   "outputs": [],
   "source": [
    "from dataclasses import dataclass\n",
    "\n",
    "@dataclass\n",
    "class Collatz:\n",
    "    __slots__ = [\"n\", \"pathlen\", \"below\", \"below_val\", \"maxn\", \"maxn_val\"]\n",
    "    n: int\n",
    "    pathlen: int\n",
    "    below: int\n",
    "    below_val: int\n",
    "    maxn: int\n",
    "    maxn_val: int\n",
    "        \n",
    "    def __str__(self):\n",
    "        return f\"A={self.n} path={self.pathlen} max={self.maxn_val}@{self.maxn} drop={self.below_val}@{self.below}\"\n"
   ]
  },
  {
   "cell_type": "markdown",
   "metadata": {},
   "source": [
    "Does it work?"
   ]
  },
  {
   "cell_type": "code",
   "execution_count": null,
   "metadata": {},
   "outputs": [
    {
     "name": "stdout",
     "output_type": "stream",
     "text": [
      "A=77671 path=231 max=1570824736@71 drop=59173@171\n"
     ]
    }
   ],
   "source": [
    "c = Collatz(77671, 231, 171, 59173, 71, 1570824736)\n",
    "print(c)"
   ]
  },
  {
   "cell_type": "markdown",
   "metadata": {},
   "source": [
    "Now let's collatz a number and log all the details:\n",
    "- path len\n",
    "- what was the max hailstone number and when did it happen (maxn)\n",
    "- when did the deries drop below the initial number (below)"
   ]
  },
  {
   "cell_type": "code",
   "execution_count": null,
   "metadata": {},
   "outputs": [],
   "source": [
    "VERBOSE = 0\n",
    "\n",
    "# VERBOSE default will be evaluated at compile time\n",
    "def collatz(n, verbose=VERBOSE):\n",
    "    cnt = 0\n",
    "    n0 = n\n",
    "    below = -1\n",
    "    below_val = -1\n",
    "    maxn = -1\n",
    "    maxn_val = n\n",
    "    if verbose >= 2: print(n, end=\" \")\n",
    "        \n",
    "    while n != 1:\n",
    "        if n % 2 == 1:\n",
    "            n = 3 * n + 1\n",
    "        else:\n",
    "            n = int(n / 2)\n",
    "        cnt += 1\n",
    "        # record when the series goes into mathematical induction\n",
    "        if below == -1 and n < n0:\n",
    "            below = cnt\n",
    "            below_val = n\n",
    "        # record the peak hailstone number\n",
    "        if n > maxn_val:\n",
    "            maxn = cnt\n",
    "            maxn_val = n\n",
    "            if verbose >= 2: print(\"^\", end=\"\")\n",
    "        if verbose >= 2: print(n, end=\" \")\n",
    "\n",
    "    if verbose >= 2: print()\n",
    "    if verbose >= 1: print(f\"path={cnt} max={maxn_val}@{maxn} drop={below_val}@{below}\")\n",
    "    return Collatz(n0, cnt, below, below_val, maxn, maxn_val)\n"
   ]
  },
  {
   "cell_type": "markdown",
   "metadata": {},
   "source": [
    "Abuse spot check as unit test:"
   ]
  },
  {
   "cell_type": "code",
   "execution_count": null,
   "metadata": {},
   "outputs": [],
   "source": [
    "assert collatz(77671, verbose=0) == Collatz(77671, 231, 171, 59173, 71, 1570824736)"
   ]
  },
  {
   "cell_type": "markdown",
   "metadata": {},
   "source": [
    "Calculate some series and store them in an array. Also let's get a first impression on performance."
   ]
  },
  {
   "cell_type": "code",
   "execution_count": null,
   "metadata": {},
   "outputs": [
    {
     "name": "stdout",
     "output_type": "stream",
     "text": [
      "calculating up to 1000000\n",
      "32.3s\n"
     ]
    }
   ],
   "source": [
    "from time import time\n",
    "\n",
    "MAX = 1000000\n",
    "print(\"calculating up to\", MAX)\n",
    "t0 = time()\n",
    "a = list()\n",
    "a.append(0)\n",
    "for i in range(1,MAX):\n",
    "    a.append(collatz(i, verbose=0))\n",
    "t1 = time()\n",
    "print(\"%.1fs\" % (t1 - t0,))\n"
   ]
  },
  {
   "cell_type": "markdown",
   "metadata": {},
   "source": [
    "We already know that residual classes will play a role, so let's add them to the output:"
   ]
  },
  {
   "cell_type": "code",
   "execution_count": null,
   "metadata": {},
   "outputs": [],
   "source": [
    "def resclasses(n):\n",
    "    a = list()\n",
    "    for p in [3,5,7,11,13,17,19]:\n",
    "        a.append(str(n % p))\n",
    "    s = ', '.join(a)\n",
    "    return f\"res=({s})\"\n"
   ]
  },
  {
   "cell_type": "code",
   "execution_count": null,
   "metadata": {},
   "outputs": [
    {
     "data": {
      "text/plain": [
       "'res=(0, 2, 6, 5, 1, 10, 8)'"
      ]
     },
     "execution_count": null,
     "metadata": {},
     "output_type": "execute_result"
    }
   ],
   "source": [
    "resclasses(27)"
   ]
  },
  {
   "cell_type": "markdown",
   "metadata": {},
   "source": [
    "Let's get a first idea what we have in our hands:"
   ]
  },
  {
   "cell_type": "code",
   "execution_count": null,
   "metadata": {},
   "outputs": [
    {
     "name": "stdout",
     "output_type": "stream",
     "text": [
      "A=2 path=1 max=2@-1 drop=1@1 res=(2, 2, 2, 2, 2, 2, 2)\n",
      "A=3 path=7 max=16@3 drop=2@6 res=(0, 3, 3, 3, 3, 3, 3)\n",
      "A=6 path=8 max=16@4 drop=3@1 res=(0, 1, 6, 6, 6, 6, 6)\n",
      "A=7 path=16 max=52@5 drop=5@11 res=(1, 2, 0, 7, 7, 7, 7)\n",
      "A=9 path=19 max=52@8 drop=7@3 res=(0, 4, 2, 9, 9, 9, 9)\n",
      "A=18 path=20 max=52@9 drop=9@1 res=(0, 3, 4, 7, 5, 1, 18)\n",
      "A=25 path=23 max=88@6 drop=19@3 res=(1, 0, 4, 3, 12, 8, 6)\n",
      "A=27 path=111 max=9232@77 drop=23@96 res=(0, 2, 6, 5, 1, 10, 8)\n",
      "A=54 path=112 max=9232@78 drop=27@1 res=(0, 4, 5, 10, 2, 3, 16)\n",
      "A=73 path=115 max=9232@81 drop=55@3 res=(1, 3, 3, 7, 8, 5, 16)\n",
      "A=97 path=118 max=9232@84 drop=73@3 res=(1, 2, 6, 9, 6, 12, 2)\n",
      "A=129 path=121 max=9232@87 drop=97@3 res=(0, 4, 3, 8, 12, 10, 15)\n",
      "A=171 path=124 max=9232@90 drop=145@8 res=(0, 1, 3, 6, 2, 1, 0)\n",
      "A=231 path=127 max=9232@93 drop=124@19 res=(0, 1, 0, 0, 10, 10, 3)\n",
      "A=313 path=130 max=9232@96 drop=235@3 res=(1, 3, 5, 5, 1, 7, 9)\n",
      "A=327 path=143 max=9232@109 drop=250@34 res=(0, 2, 5, 8, 2, 4, 4)\n",
      "A=649 path=144 max=9232@110 drop=487@3 res=(1, 4, 5, 0, 12, 3, 3)\n",
      "A=703 path=170 max=250504@82 drop=628@132 res=(1, 3, 3, 10, 1, 6, 0)\n",
      "A=871 path=178 max=190996@31 drop=797@57 res=(1, 1, 3, 2, 0, 4, 16)\n",
      "A=1161 path=181 max=190996@34 drop=871@3 res=(0, 1, 6, 6, 4, 5, 2)\n",
      "A=2223 path=182 max=250504@94 drop=2111@13 res=(0, 3, 4, 1, 0, 13, 0)\n",
      "A=2463 path=208 max=250504@120 drop=1874@34 res=(0, 3, 6, 10, 6, 15, 12)\n",
      "A=2919 path=216 max=250504@128 drop=1874@42 res=(0, 4, 0, 4, 7, 12, 12)\n",
      "A=3711 path=237 max=481624@24 drop=2543@60 res=(0, 1, 1, 4, 6, 5, 6)\n",
      "A=6171 path=261 max=975400@78 drop=3215@94 res=(0, 1, 4, 0, 9, 0, 15)\n",
      "A=10971 path=267 max=975400@84 drop=10415@13 res=(0, 1, 2, 4, 12, 6, 8)\n",
      "A=13255 path=275 max=497176@93 drop=12583@13 res=(1, 0, 4, 0, 8, 12, 12)\n",
      "A=17647 path=278 max=11003416@45 drop=16562@119 res=(1, 2, 0, 3, 6, 1, 15)\n",
      "A=23529 path=281 max=11003416@48 drop=17647@3 res=(0, 4, 2, 0, 12, 1, 7)\n",
      "A=26623 path=307 max=106358020@63 drop=26321@106 res=(1, 3, 2, 3, 12, 1, 4)\n",
      "A=34239 path=310 max=18976192@40 drop=32572@150 res=(0, 4, 2, 7, 10, 1, 1)\n",
      "A=35655 path=323 max=41163712@132 drop=29405@220 res=(0, 0, 4, 4, 9, 6, 11)\n",
      "A=52527 path=339 max=106358020@95 drop=35497@29 res=(0, 2, 6, 2, 7, 14, 11)\n",
      "A=77031 path=350 max=21933016@103 drop=65134@145 res=(0, 1, 3, 9, 6, 4, 5)\n",
      "A=106239 path=353 max=104674192@34 drop=85267@158 res=(0, 4, 0, 1, 3, 6, 10)\n",
      "A=142587 path=374 max=593279152@156 drop=121951@39 res=(0, 2, 4, 5, 3, 8, 11)\n",
      "A=156159 path=382 max=41163712@191 drop=106967@60 res=(0, 4, 3, 3, 3, 14, 17)\n",
      "A=216367 path=385 max=11843332@33 drop=144550@135 res=(1, 2, 4, 8, 8, 8, 14)\n",
      "A=230631 path=442 max=76778008@64 drop=216427@119 res=(0, 1, 2, 5, 11, 9, 9)\n",
      "A=410011 path=448 max=76778008@70 drop=288569@122 res=(1, 1, 0, 8, 4, 5, 10)\n",
      "A=511935 path=469 max=76778008@91 drop=461263@26 res=(0, 0, 4, 6, 8, 14, 18)\n",
      "A=626331 path=508 max=7222283188@108 drop=597017@287 res=(0, 1, 6, 2, 4, 0, 15)\n",
      "A=837799 path=524 max=2974984576@58 drop=638255@171 res=(1, 4, 4, 6, 1, 5, 13)\n"
     ]
    }
   ],
   "source": [
    "maxn_val = 0\n",
    "pathlen = 0\n",
    "for c in a:\n",
    "    if not isinstance(c, Collatz): # skip the 0\n",
    "        continue\n",
    "    if c.n == 1:\n",
    "        continue\n",
    "    do_print = False\n",
    "    if c.pathlen > pathlen:\n",
    "        pathlen = c.pathlen\n",
    "        do_print = True\n",
    "    if do_print:\n",
    "        print(c, resclasses(c.n))\n",
    "        "
   ]
  },
  {
   "cell_type": "markdown",
   "metadata": {},
   "source": [
    "## 100 Mio. Numbers In 3 Minutes"
   ]
  },
  {
   "cell_type": "markdown",
   "metadata": {},
   "source": [
    "Ok, we need more numbers. But for that we should reduce memory consumption and compute time: only compute until it drops below start value."
   ]
  },
  {
   "cell_type": "code",
   "execution_count": null,
   "metadata": {},
   "outputs": [],
   "source": [
    "VERBOSE = 0\n",
    "\n",
    "@dataclass\n",
    "class Collatz2:\n",
    "    __slots__ = [\"n\", \"drop\"]\n",
    "    n: int\n",
    "    drop: int\n",
    "\n",
    "    def __str__(self):\n",
    "        return f\"A={self.n} drops@{self.drop}\"\n",
    "\n",
    "# VERBOSE default will be evaluated at compile time\n",
    "def collatz2(n, verbose=VERBOSE):\n",
    "    cnt = 0\n",
    "    n0 = n\n",
    "    below = -1\n",
    "    below_val = -1\n",
    "    maxn = -1\n",
    "    maxn_val = n\n",
    "    if verbose >= 2: print(n, end=\" \")\n",
    "        \n",
    "    while n >= n0:\n",
    "        if n % 2 == 1:\n",
    "            n = 3 * n + 1\n",
    "        else:\n",
    "            n = int(n / 2)\n",
    "        cnt += 1\n",
    "        # record when the series goes into mathematical induction\n",
    "        if below == -1 and n < n0:\n",
    "            below = cnt\n",
    "            below_val = n\n",
    "        # record the peak hailstone number\n",
    "        if n > maxn_val:\n",
    "            maxn = cnt\n",
    "            maxn_val = n\n",
    "            if verbose >= 2: print(\"^\", end=\"\")\n",
    "        if verbose >= 2: print(n, end=\" \")\n",
    "\n",
    "    if verbose >= 2: print()\n",
    "    if verbose >= 1: print(f\"path={cnt} max={maxn_val}@{maxn} drop={below_val}@{below}\")\n",
    "    return Collatz2(n0, below)\n"
   ]
  },
  {
   "cell_type": "code",
   "execution_count": null,
   "metadata": {},
   "outputs": [
    {
     "data": {
      "text/plain": [
       "Collatz2(n=27, drop=96)"
      ]
     },
     "execution_count": null,
     "metadata": {},
     "output_type": "execute_result"
    }
   ],
   "source": [
    "collatz2(27)"
   ]
  },
  {
   "cell_type": "markdown",
   "metadata": {},
   "source": [
    "Now let's work thru a bigger chunk of numbers and avoid storing too many results:"
   ]
  },
  {
   "cell_type": "code",
   "execution_count": null,
   "metadata": {},
   "outputs": [
    {
     "name": "stdout",
     "output_type": "stream",
     "text": [
      "calculating up to 100000000\n",
      "2 3 7 27 703 10,087 35,655 270,271 362,343 381,727 626,331 1,027,431 1,126,015 8,088,063 --10% 19.2s-- 13,421,671 --20% 39.6s-- 20,638,335 26,716,671 --30% 59.3s-- --40% 80.0s-- --50% 100.6s-- 56,924,955 --60% 121.4s-- 63,728,127 --70% 142.0s-- --80% 162.3s-- --90% 182.4s-- --100% 202.9s-- \n",
      "total elapsed: 202.9s\n"
     ]
    }
   ],
   "source": [
    "from time import time\n",
    "\n",
    "MAX = 100_000_000\n",
    "# 100 mio = 1E+8 -> 3m20s\n",
    "DECILE = int(MAX / 10)\n",
    "print(\"calculating up to\", MAX)\n",
    "t0 = time()\n",
    "a2 = list()\n",
    "drop = 0\n",
    "for i in range(2,MAX+1):\n",
    "#    print(i, end=\" \")\n",
    "    if i % DECILE == 0:\n",
    "        percent = int(i/DECILE)*10\n",
    "        t = \"%.1fs\" % (time() - t0,)\n",
    "        print(f\"--{percent}% {t}--\", end=\" \")\n",
    "    c = collatz2(i, verbose=0)\n",
    "    if c.drop > drop:\n",
    "        drop = c.drop\n",
    "        print(f\"{c.n:,d}\", end=\" \")\n",
    "        a2.append(c)\n",
    "print()\n",
    "t1 = time()\n",
    "print(\"total elapsed: %.1fs\" % (t1 - t0,))\n"
   ]
  },
  {
   "cell_type": "markdown",
   "metadata": {},
   "source": [
    "This will, of course, produce much less storage:"
   ]
  },
  {
   "cell_type": "code",
   "execution_count": null,
   "metadata": {},
   "outputs": [
    {
     "name": "stdout",
     "output_type": "stream",
     "text": [
      "2 1 res=(2, 2, 2, 2, 2, 2, 2)\n",
      "3 6 res=(0, 3, 3, 3, 3, 3, 3)\n",
      "7 11 res=(1, 2, 0, 7, 7, 7, 7)\n",
      "27 96 res=(0, 2, 6, 5, 1, 10, 8)\n",
      "703 132 res=(1, 3, 3, 10, 1, 6, 0)\n",
      "10,087 171 res=(1, 2, 0, 0, 12, 6, 17)\n",
      "35,655 220 res=(0, 0, 4, 4, 9, 6, 11)\n",
      "270,271 267 res=(1, 1, 1, 1, 1, 5, 15)\n",
      "362,343 269 res=(0, 3, 2, 3, 7, 5, 13)\n",
      "381,727 282 res=(1, 2, 3, 5, 8, 9, 17)\n",
      "626,331 287 res=(0, 1, 6, 2, 4, 0, 15)\n",
      "1,027,431 298 res=(0, 1, 6, 9, 2, 2, 6)\n",
      "1,126,015 365 res=(1, 0, 2, 0, 7, 3, 18)\n",
      "8,088,063 401 res=(0, 3, 4, 5, 9, 7, 10)\n",
      "13,421,671 468 res=(1, 1, 4, 10, 3, 1, 14)\n",
      "20,638,335 476 res=(0, 0, 4, 3, 3, 12, 3)\n",
      "26,716,671 486 res=(0, 1, 2, 3, 7, 15, 11)\n",
      "56,924,955 502 res=(0, 0, 3, 10, 9, 13, 5)\n",
      "63,728,127 613 res=(0, 2, 1, 1, 8, 6, 18)\n"
     ]
    }
   ],
   "source": [
    "for c in a2:\n",
    "    if not isinstance(c, Collatz2): # skip the 0s\n",
    "        continue\n",
    "    print(f\"{c.n:,d}\", c.drop, resclasses(c.n))\n",
    "    "
   ]
  },
  {
   "cell_type": "markdown",
   "metadata": {},
   "source": [
    "\"Even longer\" paths become **very** rare out there..."
   ]
  },
  {
   "cell_type": "code",
   "execution_count": null,
   "metadata": {},
   "outputs": [],
   "source": []
  }
 ],
 "metadata": {
  "kernelspec": {
   "display_name": "Python [conda env:devops3] *",
   "language": "python",
   "name": "conda-env-devops3-py"
  }
 },
 "nbformat": 4,
 "nbformat_minor": 2
}
